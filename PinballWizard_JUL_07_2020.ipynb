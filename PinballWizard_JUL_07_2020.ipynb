{
 "cells": [
  {
   "cell_type": "code",
   "execution_count": 150,
   "metadata": {},
   "outputs": [],
   "source": [
    "import numpy as np"
   ]
  },
  {
   "cell_type": "code",
   "execution_count": 151,
   "metadata": {},
   "outputs": [],
   "source": [
    "# Load the data\n",
    "vals = np.array([[11, 3], [21, 4], [31, 5], [41, 6], [51, 7], [61, 8], [71, 9], [81, 10], [91, 11], [101, 12]])\n",
    "# Max pop from a district a candidate can win\n",
    "vote_pop = np.ceil((vals[:, 0]/2)) \n",
    "# Electoral votes added for each district\n",
    "vote_weights = vals[:, 1]\n",
    "# Total population\n",
    "total_pop = np.sum(vals[:, 0])\n",
    "# Number of electoral votes needed to win\n",
    "n_win = int(np.ceil(np.sum(vote_weights)/2))"
   ]
  },
  {
   "cell_type": "code",
   "execution_count": 152,
   "metadata": {},
   "outputs": [],
   "source": [
    "# Initialize the dynamic programming matrix (using total population because we want to keep track of minimum values)\n",
    "arr = np.zeros((len(vals)+1,n_win+1))\n",
    "# First value = 0, every other value = pop\n",
    "arr[0, 1:] = total_pop"
   ]
  },
  {
   "cell_type": "code",
   "execution_count": 153,
   "metadata": {},
   "outputs": [],
   "source": [
    "# Run the dynamic program\n",
    "for i in range(1, len(vals)+1):\n",
    "    for j in range(n_win+1):\n",
    "        # Don't add ith value to list\n",
    "        v0 = arr[i-1, j]\n",
    "        # Add ith value to list\n",
    "        v1 = vote_pop[i-1] + arr[i-1, max(0, j-vote_weights[i-1])]\n",
    "        if(v0 < v1):\n",
    "            arr[i, j] = v0\n",
    "        else:\n",
    "            arr[i, j] = v1"
   ]
  },
  {
   "cell_type": "code",
   "execution_count": 154,
   "metadata": {},
   "outputs": [],
   "source": [
    "# Backtrack to get the nodes\n",
    "i,j = arr.shape[0]-1, arr.shape[1]-1\n",
    "val = arr[i, j]\n",
    "nodes = []\n",
    "while(val > 0):\n",
    "    if arr[i-1, j] == val:\n",
    "        i = i-1\n",
    "    else:\n",
    "        nodes.append(i-1)\n",
    "        j = j - vote_weights[i-1]\n",
    "        val = arr[i, j]"
   ]
  },
  {
   "cell_type": "code",
   "execution_count": 163,
   "metadata": {},
   "outputs": [
    {
     "name": "stdout",
     "output_type": "stream",
     "text": [
      "District: 6, Pop: 71, Elect. Votes: 9\n",
      "District: 5, Pop: 61, Elect. Votes: 8\n",
      "District: 4, Pop: 51, Elect. Votes: 7\n",
      "District: 3, Pop: 41, Elect. Votes: 6\n",
      "District: 2, Pop: 31, Elect. Votes: 5\n",
      "District: 0, Pop: 11, Elect. Votes: 3\n",
      "-------------------------------------\n",
      "Total Elect. Votes: 38\n",
      "Total Popular Vote: 136/560\n",
      "Winning Percentage: 24.286\n"
     ]
    }
   ],
   "source": [
    "# Summary\n",
    "winning_per = arr[arr.shape[0]-1, arr.shape[1]-1]/pop*100\n",
    "n_votes = 0\n",
    "for n in nodes:\n",
    "    n_votes = n_votes + vals[n, 1]\n",
    "    print(\"District: %d, Pop: %2d, Elect. Votes: %d\" % (n, vals[n, 0], vals[n, 1]))\n",
    "print(\"-------------------------------------\")\n",
    "print(\"Total Elect. Votes: %d\" % n_votes)\n",
    "print(\"Total Popular Vote: %d/%d\" % (arr[arr.shape[0]-1, arr.shape[1]-1], total_pop))\n",
    "print(\"Winning Percentage: %0.3f\" % winning_per)"
   ]
  },
  {
   "cell_type": "code",
   "execution_count": null,
   "metadata": {},
   "outputs": [],
   "source": []
  }
 ],
 "metadata": {
  "kernelspec": {
   "display_name": "Python 2",
   "language": "python",
   "name": "python2"
  },
  "language_info": {
   "codemirror_mode": {
    "name": "ipython",
    "version": 3
   },
   "file_extension": ".py",
   "mimetype": "text/x-python",
   "name": "python",
   "nbconvert_exporter": "python",
   "pygments_lexer": "ipython3",
   "version": "3.7.6"
  }
 },
 "nbformat": 4,
 "nbformat_minor": 4
}
